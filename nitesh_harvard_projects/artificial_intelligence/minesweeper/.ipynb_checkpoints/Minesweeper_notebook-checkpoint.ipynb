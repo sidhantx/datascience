{
 "cells": [
  {
   "cell_type": "code",
   "execution_count": 1,
   "id": "7ee3eee8",
   "metadata": {},
   "outputs": [],
   "source": [
    "import itertools\n",
    "import random"
   ]
  },
  {
   "cell_type": "code",
   "execution_count": 2,
   "id": "8d76e4bc",
   "metadata": {},
   "outputs": [],
   "source": [
    "class Minesweeper():\n",
    "    \"\"\"\n",
    "    Minesweeper game representation\n",
    "    \"\"\"\n",
    "\n",
    "    def __init__(self, height=8, width=8, mines=8):\n",
    "\n",
    "        # Set initial width, height, and number of mines\n",
    "        self.height = height\n",
    "        self.width = width\n",
    "        self.mines = set()\n",
    "\n",
    "        # Initialize an empty field with no mines\n",
    "        self.board = []\n",
    "        for i in range(self.height):\n",
    "            row = []\n",
    "            for j in range(self.width):\n",
    "                row.append(False)\n",
    "            self.board.append(row)\n",
    "\n",
    "        # Add mines randomly\n",
    "        while len(self.mines) != mines:\n",
    "            i = random.randrange(height)\n",
    "            j = random.randrange(width)\n",
    "            if not self.board[i][j]:\n",
    "                self.mines.add((i, j))\n",
    "                self.board[i][j] = True\n",
    "\n",
    "        # At first, player has found no mines\n",
    "        self.mines_found = set()\n",
    "\n",
    "    def print(self):\n",
    "        \"\"\"\n",
    "        Prints a text-based representation\n",
    "        of where mines are located.\n",
    "        \"\"\"\n",
    "        for i in range(self.height):\n",
    "            print(\"--\" * self.width + \"-\")\n",
    "            for j in range(self.width):\n",
    "                if self.board[i][j]:\n",
    "                    print(\"|X\", end=\"\")\n",
    "                else:\n",
    "                    print(\"| \", end=\"\")\n",
    "            print(\"|\")\n",
    "        print(\"--\" * self.width + \"-\")\n",
    "\n",
    "    def is_mine(self, cell):\n",
    "        i, j = cell\n",
    "        return self.board[i][j]\n",
    "\n",
    "    def nearby_mines(self, cell):\n",
    "        \"\"\"\n",
    "        Returns the number of mines that are\n",
    "        within one row and column of a given cell,\n",
    "        not including the cell itself.\n",
    "        \"\"\"\n",
    "\n",
    "        # Keep count of nearby mines\n",
    "        count = 0\n",
    "\n",
    "        # Loop over all cells within one row and column\n",
    "        for i in range(cell[0] - 1, cell[0] + 2):\n",
    "            for j in range(cell[1] - 1, cell[1] + 2):\n",
    "\n",
    "                # Ignore the cell itself\n",
    "                if (i, j) == cell:\n",
    "                    continue\n",
    "\n",
    "                # Update count if cell in bounds and is mine\n",
    "                if 0 <= i < self.height and 0 <= j < self.width:\n",
    "                    if self.board[i][j]:\n",
    "                        count += 1\n",
    "\n",
    "        return count\n",
    "\n",
    "    def won(self):\n",
    "        \"\"\"\n",
    "        Checks if all mines have been flagged.\n",
    "        \"\"\"\n",
    "        return self.mines_found == self.mines"
   ]
  },
  {
   "cell_type": "code",
   "execution_count": 4,
   "id": "68fc32c6",
   "metadata": {},
   "outputs": [
    {
     "name": "stdout",
     "output_type": "stream",
     "text": [
      "-----------------\n",
      "| | |X|X| |X| | |\n",
      "-----------------\n",
      "| | | | | | | | |\n",
      "-----------------\n",
      "| | |X| |X| | | |\n",
      "-----------------\n",
      "| | | | | | | | |\n",
      "-----------------\n",
      "| | | | | | | | |\n",
      "-----------------\n",
      "|X| |X|X| | | | |\n",
      "-----------------\n",
      "| | | | | | | | |\n",
      "-----------------\n",
      "| | | | | | | | |\n",
      "-----------------\n"
     ]
    }
   ],
   "source": [
    "m = Minesweeper()\n",
    "m.print()"
   ]
  },
  {
   "cell_type": "code",
   "execution_count": 31,
   "id": "2dc18511",
   "metadata": {},
   "outputs": [],
   "source": [
    "class Sentence():\n",
    "    \"\"\"\n",
    "    Logical statement about a Minesweeper game\n",
    "    A sentence consists of a set of board cells,\n",
    "    and a count of the number of those cells which are mines.\n",
    "    \"\"\"\n",
    "\n",
    "    def __init__(self, cells, count):\n",
    "        self.cells = set(cells)\n",
    "        self.count = count\n",
    "\n",
    "    def __eq__(self, other):\n",
    "        return self.cells == other.cells and self.count == other.count\n",
    "\n",
    "    def __str__(self):\n",
    "        return f\"{self.cells} = {self.count}\"\n",
    "\n",
    "    def known_mines(self):\n",
    "        \"\"\"\n",
    "        Returns the set of all cells in self.cells known to be mines.\n",
    "        \"\"\"\n",
    "        flag = False    \n",
    "        if len(self.cells) == self.count:\n",
    "            flag = True\n",
    "        \n",
    "        if flag and self.count != 0:\n",
    "            return self.cells.copy()\n",
    "        \n",
    "        return set()\n",
    "        \n",
    "\n",
    "    def known_safes(self):\n",
    "        \"\"\"\n",
    "        Returns the set of all cells in self.cells known to be safe.\n",
    "        \"\"\"\n",
    "        if self.count ==0:\n",
    "            return self.cells.copy()\n",
    "        return set()\n",
    "\n",
    "    def mark_mine(self, cell):\n",
    "        \"\"\"\n",
    "        Updates internal knowledge representation given the fact that\n",
    "        a cell is known to be a mine.\n",
    "        \"\"\"\n",
    "        if cell in self.cells:\n",
    "            self.cells.remove(cell)\n",
    "            self.count = self.count -1\n",
    "        \n",
    "\n",
    "    def mark_safe(self, cell):\n",
    "        \"\"\"\n",
    "        Updates internal knowledge representation given the fact that\n",
    "        a cell is known to be safe.\n",
    "        \"\"\"\n",
    "        if cell in  self.cells:\n",
    "            self.cells.remove(cell)\n"
   ]
  },
  {
   "cell_type": "code",
   "execution_count": 52,
   "id": "f87e42f3",
   "metadata": {},
   "outputs": [],
   "source": [
    "class MinesweeperAI():\n",
    "    \"\"\"\n",
    "    Minesweeper game player\n",
    "    \"\"\"\n",
    "\n",
    "    def __init__(self, height=8, width=8):\n",
    "\n",
    "        # Set initial height and width\n",
    "        self.height = height\n",
    "        self.width = width\n",
    "\n",
    "        # Keep track of which cells have been clicked on\n",
    "        self.moves_made = set()\n",
    "\n",
    "        # Keep track of cells known to be safe or mines\n",
    "        self.mines = set()\n",
    "        self.safes = set()\n",
    "\n",
    "        # List of sentences about the game known to be true\n",
    "        self.knowledge = []\n",
    "\n",
    "    def mark_mine(self, cell):\n",
    "        \"\"\"\n",
    "        Marks a cell as a mine, and updates all knowledge\n",
    "        to mark that cell as a mine as well.\n",
    "        \"\"\"\n",
    "        self.mines.add(cell)\n",
    "        for sentence in self.knowledge:\n",
    "            sentence.mark_mine(cell)\n",
    "\n",
    "    def mark_safe(self, cell):\n",
    "        \"\"\"\n",
    "        Marks a cell as safe, and updates all knowledge\n",
    "        to mark that cell as safe as well.\n",
    "        \"\"\"\n",
    "        self.safes.add(cell)\n",
    "        for sentence in self.knowledge:\n",
    "            sentence.mark_safe(cell)\n",
    "\n",
    "    def add_knowledge(self, cell, count):\n",
    "        \"\"\"\n",
    "        Called when the Minesweeper board tells us, for a given\n",
    "        safe cell, how many neighboring cells have mines in them.\n",
    "\n",
    "        This function should:\n",
    "            1) mark the cell as a move that has been made\n",
    "            2) mark the cell as safe\n",
    "            3) add a new sentence to the AI's knowledge base\n",
    "               based on the value of `cell` and `count`\n",
    "            4) mark any additional cells as safe or as mines\n",
    "               if it can be concluded based on the AI's knowledge base\n",
    "            5) add any new sentences to the AI's knowledge base\n",
    "               if they can be inferred from existing knowledge\n",
    "        \"\"\"\n",
    "        self.moves_made.add(cell)\n",
    "        self.safes.add(cell)\n",
    "        \n",
    "        #add new sentence\n",
    "        \n",
    "        \n",
    "        \n",
    "        \n",
    "        \n",
    "\n",
    "    def make_safe_move(self):\n",
    "        \"\"\"\n",
    "        Returns a safe cell to choose on the Minesweeper board.\n",
    "        The move must be known to be safe, and not already a move\n",
    "        that has been made.\n",
    "\n",
    "        This function may use the knowledge in self.mines, self.safes\n",
    "        and self.moves_made, but should not modify any of those values.\n",
    "        \"\"\"\n",
    "        safe_move = self.safes - self.moves_made\n",
    "        if len(safe_move) ==0:\n",
    "            return None\n",
    "        else:\n",
    "            return safe_move.pop()\n",
    "       \n",
    "        \n",
    "    def make_random_move(self):\n",
    "        \"\"\"\n",
    "        Returns a move to make on the Minesweeper board.\n",
    "        Should choose randomly among cells that:\n",
    "            1) have not already been chosen, and\n",
    "            2) are not known to be mines\n",
    "        \"\"\"\n",
    "        for i in range(self.height):\n",
    "            for k in range(self.width):\n",
    "                if (i,k) not in self.moves_made and (i,k) not in self.mines:\n",
    "                    return (i,k)\n",
    "        \n",
    "        return None\n",
    "        \n",
    "                \n",
    "                \n"
   ]
  },
  {
   "cell_type": "code",
   "execution_count": null,
   "id": "84361089",
   "metadata": {},
   "outputs": [],
   "source": [
    "def add_sentence(cell, count):\n",
    "    possible_moves = set()\n",
    "    for i in range(self.height):\n",
    "        for j in range(self.width):\n",
    "            possible_moves.add(i,j)\n",
    "    \n",
    "    right = (cell[0], cell[1] +1)\n",
    "    left = (cell[0] , cell[1] - 1)\n",
    "    up = (cell[0] -1, cell[1])\n",
    "    down = (cell[0] +1, cell[1])\n",
    "    diag_right_down = (cell[0] +1, cell[1]+1)\n",
    "    diag_left_down = (cell[0] +1, cell[1] -1)\n",
    "    diag_right_up = (cell[0] -1, cell[1]+1)\n",
    "    diag_left_up = (cell[0] -1, cell[1]-1)\n",
    "    \n",
    "    ai_possible_moves = set()\n",
    "    \n",
    "    if right in possible_moves \n",
    "    \n",
    "\n",
    "\n",
    "\n",
    "\n"
   ]
  },
  {
   "cell_type": "code",
   "execution_count": 49,
   "id": "5762c160",
   "metadata": {},
   "outputs": [
    {
     "data": {
      "text/plain": [
       "{(0, 2), (0, 3)}"
      ]
     },
     "execution_count": 49,
     "metadata": {},
     "output_type": "execute_result"
    }
   ],
   "source": [
    "a = set([(0,1),(0,2),(0,3)])\n",
    "b= set([(0,1)])\n",
    "c = a-b\n",
    "c"
   ]
  },
  {
   "cell_type": "code",
   "execution_count": 46,
   "id": "aff28e4d",
   "metadata": {},
   "outputs": [
    {
     "data": {
      "text/plain": [
       "(0, 2)"
      ]
     },
     "execution_count": 46,
     "metadata": {},
     "output_type": "execute_result"
    }
   ],
   "source": [
    "c.pop()"
   ]
  },
  {
   "cell_type": "code",
   "execution_count": 47,
   "id": "e39f03a5",
   "metadata": {},
   "outputs": [
    {
     "data": {
      "text/plain": [
       "{(0, 3)}"
      ]
     },
     "execution_count": 47,
     "metadata": {},
     "output_type": "execute_result"
    }
   ],
   "source": [
    "c"
   ]
  },
  {
   "cell_type": "code",
   "execution_count": 51,
   "id": "88242bec",
   "metadata": {},
   "outputs": [
    {
     "data": {
      "text/plain": [
       "{(0, 1)}"
      ]
     },
     "execution_count": 51,
     "metadata": {},
     "output_type": "execute_result"
    }
   ],
   "source": [
    "b"
   ]
  },
  {
   "cell_type": "code",
   "execution_count": 1,
   "id": "55d95253",
   "metadata": {},
   "outputs": [
    {
     "data": {
      "text/plain": [
       "{(0, 0), (0, 1), (0, 2), (1, 0), (1, 1), (1, 2)}"
      ]
     },
     "execution_count": 1,
     "metadata": {},
     "output_type": "execute_result"
    }
   ],
   "source": [
    "a = set()\n",
    "for i in range(2):\n",
    "    for k in range(3):\n",
    "        a.add((i,k))\n",
    "a\n",
    "        "
   ]
  },
  {
   "cell_type": "code",
   "execution_count": 5,
   "id": "872a583c",
   "metadata": {},
   "outputs": [
    {
     "data": {
      "text/plain": [
       "True"
      ]
     },
     "execution_count": 5,
     "metadata": {},
     "output_type": "execute_result"
    }
   ],
   "source": [
    "a = set([(4,0), (4,1)])\n",
    "b = set([(4,0), (4,1)])\n",
    "\n",
    "b.issuperset(a)\n"
   ]
  },
  {
   "cell_type": "code",
   "execution_count": 14,
   "id": "66c2653a",
   "metadata": {},
   "outputs": [
    {
     "name": "stdout",
     "output_type": "stream",
     "text": [
      "working on {(3, 1), (3, 2), (3, 0)} {(3, 1), (3, 0)}\n",
      "new sent is  {(3, 2)}\n",
      "working on {(3, 1), (3, 2), (3, 0)} {(3, 2)}\n",
      "new sent is  {(3, 1), (3, 0)}\n",
      "working on {(5, 3), (5, 4), (3, 2), (4, 2), (5, 2)} {(3, 2)}\n",
      "new sent is  {(5, 3), (5, 4), (4, 2), (5, 2)}\n",
      "working on {(5, 3), (5, 4), (3, 2), (4, 2), (5, 2)} {(5, 3), (5, 4), (4, 2), (5, 2)}\n",
      "new sent is  {(3, 2)}\n",
      "[{(3, 1), (3, 2), (3, 0)}, {(5, 3), (5, 4), (5, 5)}, {(5, 3), (5, 4), (3, 2), (4, 2), (5, 2)}, {(3, 1), (3, 0)}, {(3, 2)}, {(5, 3), (5, 4), (4, 2), (5, 2)}]\n"
     ]
    }
   ],
   "source": [
    "knowledge = [{(3, 1), (3, 2), (3, 0)},{(5, 3), (5, 4), (5, 5)},{(5, 3), (5, 4), (3, 2), (4, 2), (5, 2)},{(3, 1), (3, 0)}]\n",
    "\n",
    "temp_knowledge = []\n",
    "for sent in knowledge:\n",
    "    for sent2 in knowledge:\n",
    "        if sent != sent2:\n",
    "            if sent2.issubset(sent):\n",
    "                if len(sent) !=0 and len(sent2) !=0 and len(sent) > len(sent2):\n",
    "                    print(\"working on\", sent, sent2)\n",
    "                    new_sent = sent - sent2\n",
    "                    print(\"new sent is \", new_sent)\n",
    "                    if new_sent not in knowledge:\n",
    "                        knowledge.append(new_sent)\n",
    "                    \n",
    "                    #temp_knowledge.append(new_sent)\n",
    "\n",
    "# for sent in temp_knowledge:\n",
    "#     if sent not in knowledge:\n",
    "#         knowledge.append(sent)\n",
    "# print(temp_knowledge)\n",
    "print(knowledge)\n",
    "\n",
    "\n",
    "\n"
   ]
  },
  {
   "cell_type": "code",
   "execution_count": null,
   "id": "0f45bed1",
   "metadata": {},
   "outputs": [],
   "source": [
    "            for sent in self.knowledge:\n",
    "                for sent2 in self.knowledge:\n",
    "                    if sent != sent2:\n",
    "                        if sent2.cells.issubset(sent.cells):\n",
    "                            if len(sent.cells) !=0 and len(sent2.cells) !=0 and len(sent.cells) > len(sent2.cells):\n",
    "                                new_sent = Sentence(sent.cells - sent2.cells, sent.count - sent2.count)\n",
    "                                self.knowledge.append(new_sent)\n",
    "                                print(\"sentence at line 238 \", sentence)\n",
    "                                continue"
   ]
  },
  {
   "cell_type": "code",
   "execution_count": 42,
   "id": "324ec8c6",
   "metadata": {},
   "outputs": [
    {
     "name": "stdout",
     "output_type": "stream",
     "text": [
      "{'A'}\n",
      "{'A'}\n",
      "{'B'}\n",
      "{'B'}\n",
      "{'C'}\n",
      "{'C'}\n"
     ]
    }
   ],
   "source": [
    "import itertools\n",
    "knowledge = [{(3, 1), (3, 2), (3, 0)},{(5, 3), (5, 4), (5, 5)},{(5, 3), (5, 4), (3, 2), (4, 2), (5, 2)},{(3, 1), (3, 0)}]\n",
    "knowledge2 = [{'A'},{'B'},{'C'}]\n",
    "\n",
    "permutations = list(itertools.permutations(knowledge2.copy(),2))\n",
    "\n",
    "\n",
    "for perm in permutations:\n",
    "    print(perm[0])"
   ]
  },
  {
   "cell_type": "code",
   "execution_count": 44,
   "id": "28449ed2",
   "metadata": {},
   "outputs": [
    {
     "name": "stdout",
     "output_type": "stream",
     "text": [
      "<itertools.permutations object at 0x0000018F15666040>\n",
      "{'A'} {'B'}\n",
      "{'A'} {'C'}\n",
      "{'B'} {'A'}\n",
      "{'B'} {'C'}\n",
      "{'C'} {'A'}\n",
      "{'C'} {'B'}\n"
     ]
    }
   ],
   "source": [
    "k =itertools.permutations(knowledge2.copy(),2)\n",
    "print(k)\n",
    "for s in itertools.permutations(knowledge2.copy(),2):\n",
    "    print(s[0],s[1])\n"
   ]
  },
  {
   "cell_type": "code",
   "execution_count": 29,
   "id": "0ed5d1eb",
   "metadata": {},
   "outputs": [
    {
     "data": {
      "text/plain": [
       "True"
      ]
     },
     "execution_count": 29,
     "metadata": {},
     "output_type": "execute_result"
    }
   ],
   "source": [
    "a = set(['A','B','C','D','E'])\n",
    "b= set(['A','B','C'])\n",
    "\n",
    "b.issubset(a)\n"
   ]
  },
  {
   "cell_type": "code",
   "execution_count": 30,
   "id": "347cedd6",
   "metadata": {},
   "outputs": [
    {
     "data": {
      "text/plain": [
       "{'D', 'E'}"
      ]
     },
     "execution_count": 30,
     "metadata": {},
     "output_type": "execute_result"
    }
   ],
   "source": [
    "a -b"
   ]
  },
  {
   "cell_type": "code",
   "execution_count": 32,
   "id": "5be4f9b7",
   "metadata": {},
   "outputs": [
    {
     "data": {
      "text/plain": [
       "True"
      ]
     },
     "execution_count": 32,
     "metadata": {},
     "output_type": "execute_result"
    }
   ],
   "source": [
    "a = set(['A','B','C'])\n",
    "b= set(['A','B','C'])\n",
    "b.issubset(a)"
   ]
  },
  {
   "cell_type": "code",
   "execution_count": 33,
   "id": "0f2505d0",
   "metadata": {},
   "outputs": [
    {
     "data": {
      "text/plain": [
       "set()"
      ]
     },
     "execution_count": 33,
     "metadata": {},
     "output_type": "execute_result"
    }
   ],
   "source": [
    "a-b"
   ]
  },
  {
   "cell_type": "code",
   "execution_count": 34,
   "id": "f7c4d034",
   "metadata": {},
   "outputs": [
    {
     "ename": "TypeError",
     "evalue": "unhashable type: 'set'",
     "output_type": "error",
     "traceback": [
      "\u001b[1;31m---------------------------------------------------------------------------\u001b[0m",
      "\u001b[1;31mTypeError\u001b[0m                                 Traceback (most recent call last)",
      "Input \u001b[1;32mIn [34]\u001b[0m, in \u001b[0;36m<module>\u001b[1;34m\u001b[0m\n\u001b[0;32m      1\u001b[0m a\u001b[38;5;241m=\u001b[39m\u001b[38;5;28mset\u001b[39m()\n\u001b[1;32m----> 3\u001b[0m \u001b[43ma\u001b[49m\u001b[38;5;241;43m.\u001b[39;49m\u001b[43madd\u001b[49m\u001b[43m(\u001b[49m\u001b[38;5;28;43mset\u001b[39;49m\u001b[43m(\u001b[49m\u001b[43m)\u001b[49m\u001b[43m)\u001b[49m\n\u001b[0;32m      4\u001b[0m a\u001b[38;5;241m.\u001b[39madd((\u001b[38;5;241m1\u001b[39m,\u001b[38;5;241m2\u001b[39m))\n\u001b[0;32m      5\u001b[0m a\u001b[38;5;241m.\u001b[39madd(\u001b[38;5;28mset\u001b[39m())\n",
      "\u001b[1;31mTypeError\u001b[0m: unhashable type: 'set'"
     ]
    }
   ],
   "source": [
    "a=set()\n",
    "\n",
    "a.add(set())\n",
    "a.add((1,2))\n",
    "a.add(set())\n"
   ]
  },
  {
   "cell_type": "code",
   "execution_count": null,
   "id": "f4e4106c",
   "metadata": {},
   "outputs": [],
   "source": []
  }
 ],
 "metadata": {
  "kernelspec": {
   "display_name": "Python 3 (ipykernel)",
   "language": "python",
   "name": "python3"
  },
  "language_info": {
   "codemirror_mode": {
    "name": "ipython",
    "version": 3
   },
   "file_extension": ".py",
   "mimetype": "text/x-python",
   "name": "python",
   "nbconvert_exporter": "python",
   "pygments_lexer": "ipython3",
   "version": "3.9.7"
  }
 },
 "nbformat": 4,
 "nbformat_minor": 5
}
