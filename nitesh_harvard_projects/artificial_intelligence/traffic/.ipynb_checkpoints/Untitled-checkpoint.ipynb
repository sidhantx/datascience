{
 "cells": [
  {
   "cell_type": "code",
   "execution_count": 2,
   "id": "baffdc16",
   "metadata": {},
   "outputs": [],
   "source": [
    "#import cv2\n",
    "import numpy as np\n",
    "import os\n",
    "import sys\n",
    "import tensorflow as tf\n",
    "\n",
    "from sklearn.model_selection import train_test_split"
   ]
  },
  {
   "cell_type": "code",
   "execution_count": 6,
   "id": "a0f7ac58",
   "metadata": {},
   "outputs": [],
   "source": [
    "EPOCHS = 10\n",
    "IMG_WIDTH = 30\n",
    "IMG_HEIGHT = 30\n",
    "NUM_CATEGORIES = 43\n",
    "TEST_SIZE = 0.4"
   ]
  },
  {
   "cell_type": "code",
   "execution_count": 7,
   "id": "b243e004",
   "metadata": {},
   "outputs": [],
   "source": [
    "def main():\n",
    "\n",
    "    # Check command-line arguments\n",
    "#     if len(sys.argv) not in [2, 3]:\n",
    "#         sys.exit(\"Usage: python traffic.py data_directory [model.h5]\")\n",
    "\n",
    "    # Get image arrays and labels for all image files\n",
    "    images, labels = load_data(\"gtsrb\")\n",
    "\n",
    "    # Split data into training and testing sets\n",
    "    labels = tf.keras.utils.to_categorical(labels)\n",
    "    x_train, x_test, y_train, y_test = train_test_split(\n",
    "        np.array(images), np.array(labels), test_size=TEST_SIZE\n",
    "    )\n",
    "\n",
    "    # Get a compiled neural network\n",
    "    model = get_model()\n",
    "\n",
    "    # Fit model on training data\n",
    "    model.fit(x_train, y_train, epochs=EPOCHS)\n",
    "\n",
    "    # Evaluate neural network performance\n",
    "    model.evaluate(x_test,  y_test, verbose=2)\n",
    "\n",
    "    # Save model to file\n",
    "    if len(sys.argv) == 3:\n",
    "        filename = sys.argv[2]\n",
    "        model.save(filename)\n",
    "        print(f\"Model saved to {filename}.\")\n",
    "\n",
    "\n"
   ]
  },
  {
   "cell_type": "code",
   "execution_count": 148,
   "id": "7b1eb986",
   "metadata": {},
   "outputs": [],
   "source": [
    "def load_data(data_dir):\n",
    "    \"\"\"\n",
    "    Load image data from directory `data_dir`.\n",
    "\n",
    "    Assume `data_dir` has one directory named after each category, numbered\n",
    "    0 through NUM_CATEGORIES - 1. Inside each category directory will be some\n",
    "    number of image files.\n",
    "\n",
    "    Return tuple `(images, labels)`. `images` should be a list of all\n",
    "    of the images in the data directory, where each image is formatted as a\n",
    "    numpy ndarray with dimensions IMG_WIDTH x IMG_HEIGHT x 3. `labels` should\n",
    "    be a list of integer labels, representing the categories for each of the\n",
    "    corresponding `images`.\n",
    "    \"\"\"\n",
    "    \n",
    "    images, labels = [], []\n",
    "    \n",
    "    for directory in os.listdir(data_dir):\n",
    "        dir_path = os.path.join(data_dir,directory)\n",
    "        if os.path.isdir(dir_path):\n",
    "            for file in os.listdir(dir_path):\n",
    "                if os.path.isfile(os.path.join(dir_path,file)):\n",
    "                    image = cv2.imread(os.path.join(dir_path, file), \n",
    "                                   cv2.IMREAD_COLOR)\n",
    "                \n",
    "                    image = cv2.resize(img, (IMG_WIDTH, IMG_HEIGHT))\n",
    "                    images.append(image)\n",
    "                    labels.append(int(directory))\n",
    "    \n",
    "    return images, labels"
   ]
  },
  {
   "cell_type": "code",
   "execution_count": 147,
   "id": "2be36000",
   "metadata": {},
   "outputs": [
    {
     "name": "stdout",
     "output_type": "stream",
     "text": [
      "True\n"
     ]
    }
   ],
   "source": [
    "if os.path.isfile(os.path.join(\"gtsrb\",\"0\",\"00000_00000.ppm\")):\n",
    "    print(True)"
   ]
  },
  {
   "cell_type": "code",
   "execution_count": 149,
   "id": "840d298f",
   "metadata": {},
   "outputs": [],
   "source": [
    "i, l = load_data(\"gtsrb\")"
   ]
  },
  {
   "cell_type": "code",
   "execution_count": 4,
   "id": "679a47fb",
   "metadata": {},
   "outputs": [],
   "source": [
    "def get_model():\n",
    "    \"\"\"\n",
    "    Returns a compiled convolutional neural network model. Assume that the\n",
    "    `input_shape` of the first layer is `(IMG_WIDTH, IMG_HEIGHT, 3)`.\n",
    "    The output layer should have `NUM_CATEGORIES` units, one for each category.\n",
    "    \"\"\"\n",
    "    raise NotImplementedError"
   ]
  },
  {
   "cell_type": "code",
   "execution_count": 3,
   "id": "d19cfabc",
   "metadata": {},
   "outputs": [
    {
     "data": {
      "text/plain": [
       "'C:\\\\Users\\\\nk\\\\Documents\\\\_spring20222\\\\AI\\\\Projects\\\\Project1\\\\traffic'"
      ]
     },
     "execution_count": 3,
     "metadata": {},
     "output_type": "execute_result"
    }
   ],
   "source": [
    "os.getcwd()"
   ]
  },
  {
   "cell_type": "code",
   "execution_count": null,
   "id": "e7704f4a",
   "metadata": {},
   "outputs": [],
   "source": [
    "for dire in os.listdir('gtsrb'):\n",
    "    print(dire)\n",
    "    if os.path.isdir(os.path.join('gtsrb',dire)):\n",
    "        for file in os.listdir()"
   ]
  },
  {
   "cell_type": "code",
   "execution_count": 6,
   "id": "38c25cab",
   "metadata": {},
   "outputs": [
    {
     "name": "stdout",
     "output_type": "stream",
     "text": [
      "Files at dir gtsrb\\0 = 150 \n",
      "Files at dir gtsrb\\1 = 1500 \n",
      "Files at dir gtsrb\\10 = 1350 \n",
      "Files at dir gtsrb\\11 = 900 \n",
      "Files at dir gtsrb\\12 = 1410 \n",
      "Files at dir gtsrb\\13 = 1440 \n",
      "Files at dir gtsrb\\14 = 540 \n",
      "Files at dir gtsrb\\15 = 420 \n",
      "Files at dir gtsrb\\16 = 300 \n",
      "Files at dir gtsrb\\17 = 750 \n",
      "Files at dir gtsrb\\18 = 810 \n",
      "Files at dir gtsrb\\19 = 150 \n",
      "Files at dir gtsrb\\2 = 1500 \n",
      "Files at dir gtsrb\\20 = 240 \n",
      "Files at dir gtsrb\\21 = 240 \n",
      "Files at dir gtsrb\\22 = 270 \n",
      "Files at dir gtsrb\\23 = 360 \n",
      "Files at dir gtsrb\\24 = 180 \n",
      "Files at dir gtsrb\\25 = 1020 \n",
      "Files at dir gtsrb\\26 = 420 \n",
      "Files at dir gtsrb\\27 = 180 \n",
      "Files at dir gtsrb\\28 = 360 \n",
      "Files at dir gtsrb\\29 = 180 \n",
      "Files at dir gtsrb\\3 = 960 \n",
      "Files at dir gtsrb\\30 = 300 \n",
      "Files at dir gtsrb\\31 = 540 \n",
      "Files at dir gtsrb\\32 = 180 \n",
      "Files at dir gtsrb\\33 = 480 \n",
      "Files at dir gtsrb\\34 = 300 \n",
      "Files at dir gtsrb\\35 = 810 \n",
      "Files at dir gtsrb\\36 = 270 \n",
      "Files at dir gtsrb\\37 = 150 \n",
      "Files at dir gtsrb\\38 = 1380 \n",
      "Files at dir gtsrb\\39 = 210 \n",
      "Files at dir gtsrb\\4 = 1320 \n",
      "Files at dir gtsrb\\40 = 240 \n",
      "Files at dir gtsrb\\41 = 180 \n",
      "Files at dir gtsrb\\42 = 180 \n",
      "Files at dir gtsrb\\5 = 1260 \n",
      "Files at dir gtsrb\\6 = 300 \n",
      "Files at dir gtsrb\\7 = 960 \n",
      "Files at dir gtsrb\\8 = 960 \n",
      "Files at dir gtsrb\\9 = 990 \n",
      "26640\n"
     ]
    }
   ],
   "source": [
    "total_file =0\n",
    "\n",
    "data_dir ='gtsrb'\n",
    "for directory in os.listdir(data_dir):\n",
    "    dir_path = os.path.join(data_dir,directory)\n",
    "    if os.path.isdir(dir_path):\n",
    "        file_each_dir =0\n",
    "        for file in os.listdir(dir_path):\n",
    "            if os.path.isfile(os.path.join(dir_path,file)):\n",
    "                file_each_dir +=1\n",
    "        \n",
    "        total_file += file_each_dir\n",
    "        print(f\"Files at dir {dir_path} = {file_each_dir} \")\n",
    "\n",
    "print(total_file)\n",
    "\n",
    "                "
   ]
  },
  {
   "cell_type": "code",
   "execution_count": 4,
   "id": "214236a6",
   "metadata": {},
   "outputs": [
    {
     "data": {
      "text/plain": [
       "['.DS_Store',\n",
       " '0',\n",
       " '1',\n",
       " '10',\n",
       " '11',\n",
       " '12',\n",
       " '13',\n",
       " '14',\n",
       " '15',\n",
       " '16',\n",
       " '17',\n",
       " '18',\n",
       " '19',\n",
       " '2',\n",
       " '20',\n",
       " '21',\n",
       " '22',\n",
       " '23',\n",
       " '24',\n",
       " '25',\n",
       " '26',\n",
       " '27',\n",
       " '28',\n",
       " '29',\n",
       " '3',\n",
       " '30',\n",
       " '31',\n",
       " '32',\n",
       " '33',\n",
       " '34',\n",
       " '35',\n",
       " '36',\n",
       " '37',\n",
       " '38',\n",
       " '39',\n",
       " '4',\n",
       " '40',\n",
       " '41',\n",
       " '42',\n",
       " '5',\n",
       " '6',\n",
       " '7',\n",
       " '8',\n",
       " '9']"
      ]
     },
     "execution_count": 4,
     "metadata": {},
     "output_type": "execute_result"
    }
   ],
   "source": [
    "os.listdir('gtsrb')"
   ]
  },
  {
   "cell_type": "code",
   "execution_count": null,
   "id": "26e62b19",
   "metadata": {},
   "outputs": [],
   "source": []
  }
 ],
 "metadata": {
  "kernelspec": {
   "display_name": "Python 3 (ipykernel)",
   "language": "python",
   "name": "python3"
  },
  "language_info": {
   "codemirror_mode": {
    "name": "ipython",
    "version": 3
   },
   "file_extension": ".py",
   "mimetype": "text/x-python",
   "name": "python",
   "nbconvert_exporter": "python",
   "pygments_lexer": "ipython3",
   "version": "3.8.11"
  }
 },
 "nbformat": 4,
 "nbformat_minor": 5
}
