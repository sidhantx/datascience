{
 "cells": [
  {
   "cell_type": "code",
   "execution_count": null,
   "outputs": [],
   "source": [
    "!pip install pybag\n"
   ],
   "metadata": {
    "collapsed": false,
    "pycharm": {
     "name": "#%%\n"
    }
   }
  },
  {
   "cell_type": "code",
   "execution_count": null,
   "outputs": [],
   "source": [
    "import math\n",
    "import copy"
   ],
   "metadata": {
    "collapsed": false,
    "pycharm": {
     "name": "#%%\n"
    }
   }
  },
  {
   "cell_type": "code",
   "execution_count": 1,
   "id": "3568e1a5",
   "metadata": {
    "pycharm": {
     "name": "#%%\n"
    }
   },
   "outputs": [],
   "source": [
    "import math\n",
    "import copy"
   ]
  },
  {
   "cell_type": "code",
   "execution_count": 2,
   "id": "abb4d285",
   "metadata": {
    "pycharm": {
     "name": "#%%\n"
    }
   },
   "outputs": [],
   "source": [
    "\"\"\"\n",
    "Tic Tac Toe Player\n",
    "\"\"\"\n",
    "\n",
    "import math\n",
    "\n",
    "X = \"X\"\n",
    "O = \"O\"\n",
    "EMPTY = None\n",
    "\n",
    "\n",
    "def initial_state():\n",
    "    \"\"\"\n",
    "    Returns starting state of the board.\n",
    "    \"\"\"\n",
    "    return [[EMPTY, EMPTY, EMPTY],\n",
    "            [EMPTY, EMPTY, EMPTY],\n",
    "            [EMPTY, EMPTY, EMPTY]]\n",
    "\n",
    "\n"
   ]
  },
  {
   "cell_type": "code",
   "execution_count": 3,
   "id": "7dddc01f",
   "metadata": {
    "pycharm": {
     "name": "#%%\n"
    }
   },
   "outputs": [],
   "source": [
    "a = initial_state()"
   ]
  },
  {
   "cell_type": "code",
   "execution_count": 4,
   "id": "cc8faa4e",
   "metadata": {
    "pycharm": {
     "name": "#%%\n"
    }
   },
   "outputs": [],
   "source": [
    "def player(board):\n",
    "    \"\"\"\n",
    "    Returns player who has the next turn on a board.\n",
    "    \"\"\"\n",
    "   \n",
    "    x_count = sum([a.count(X) for a in board])\n",
    "    o_count = sum([a.count(O) for a in board])\n",
    "    if o_count < x_count:\n",
    "        return O\n",
    "    return X\n",
    "        \n",
    "        \n",
    "    \n",
    "    \n",
    "    "
   ]
  },
  {
   "cell_type": "code",
   "execution_count": 5,
   "id": "c46d9161",
   "metadata": {
    "pycharm": {
     "name": "#%%\n"
    }
   },
   "outputs": [
    {
     "data": {
      "text/plain": [
       "'X'"
      ]
     },
     "execution_count": 5,
     "metadata": {},
     "output_type": "execute_result"
    }
   ],
   "source": [
    "player(a)"
   ]
  },
  {
   "cell_type": "code",
   "execution_count": 6,
   "id": "fa93e39f",
   "metadata": {
    "pycharm": {
     "name": "#%%\n"
    }
   },
   "outputs": [],
   "source": [
    "def actions(board):\n",
    "    \"\"\"\n",
    "    Returns set of all possible actions (i, j) available on the board.\n",
    "    \"\"\"\n",
    "    actions = set()\n",
    "    for row in range(len(board)):\n",
    "        for col in range(len(board[0])):\n",
    "            if board[row][col] == None:\n",
    "                actions.add((row,col))\n",
    "    return actions\n",
    "    \n",
    "\n",
    "            \n",
    "    \n",
    "    \n",
    "    "
   ]
  },
  {
   "cell_type": "code",
   "execution_count": 7,
   "id": "9ca0b190",
   "metadata": {
    "pycharm": {
     "name": "#%%\n"
    }
   },
   "outputs": [
    {
     "data": {
      "text/plain": [
       "{(0, 0), (0, 1), (0, 2), (1, 0), (1, 1), (1, 2), (2, 0), (2, 1), (2, 2)}"
      ]
     },
     "execution_count": 7,
     "metadata": {},
     "output_type": "execute_result"
    }
   ],
   "source": [
    "actions(a)"
   ]
  },
  {
   "cell_type": "code",
   "execution_count": 8,
   "id": "c222fcac",
   "metadata": {
    "pycharm": {
     "name": "#%%\n"
    }
   },
   "outputs": [
    {
     "data": {
      "text/plain": [
       "[[None, None, None], [None, None, None], [None, None, None]]"
      ]
     },
     "execution_count": 8,
     "metadata": {},
     "output_type": "execute_result"
    }
   ],
   "source": [
    "a"
   ]
  },
  {
   "cell_type": "code",
   "execution_count": 9,
   "id": "ad17ccfb",
   "metadata": {
    "pycharm": {
     "name": "#%%\n"
    }
   },
   "outputs": [
    {
     "name": "stdout",
     "output_type": "stream",
     "text": [
      "0 1\n",
      "1 2\n",
      "2 1\n",
      "0 0\n",
      "1 1\n",
      "2 0\n",
      "0 2\n",
      "2 2\n",
      "1 0\n"
     ]
    }
   ],
   "source": [
    "for b in actions(a):\n",
    "    print(b[0], b[1])"
   ]
  },
  {
   "cell_type": "code",
   "execution_count": 10,
   "id": "184382e8",
   "metadata": {
    "pycharm": {
     "name": "#%%\n"
    }
   },
   "outputs": [
    {
     "data": {
      "text/plain": [
       "[[None, None, None], [None, None, None], [None, None, None]]"
      ]
     },
     "execution_count": 10,
     "metadata": {},
     "output_type": "execute_result"
    }
   ],
   "source": [
    "a"
   ]
  },
  {
   "cell_type": "code",
   "execution_count": 11,
   "id": "3fd7bb03",
   "metadata": {
    "pycharm": {
     "name": "#%%\n"
    }
   },
   "outputs": [],
   "source": [
    "def result(board, action):\n",
    "    \"\"\"\n",
    "    Returns the board that results from making move (i, j) on the board.\n",
    "    \"\"\"\n",
    "    new_board = copy.deepcopy(board)\n",
    "    next_player = player(board)\n",
    "    new_board[action[0]][action[1]] = next_player\n",
    "    return new_board\n",
    "    "
   ]
  },
  {
   "cell_type": "code",
   "execution_count": 12,
   "id": "69bb7059",
   "metadata": {
    "pycharm": {
     "name": "#%%\n"
    }
   },
   "outputs": [
    {
     "data": {
      "text/plain": [
       "[[None, None, None], [None, 'X', None], [None, None, None]]"
      ]
     },
     "execution_count": 12,
     "metadata": {},
     "output_type": "execute_result"
    }
   ],
   "source": [
    "result(a, (1,1))"
   ]
  },
  {
   "cell_type": "code",
   "execution_count": 13,
   "id": "68ca6027",
   "metadata": {
    "pycharm": {
     "name": "#%%\n"
    }
   },
   "outputs": [
    {
     "data": {
      "text/plain": [
       "[[None, None, None], [None, None, None], [None, None, None]]"
      ]
     },
     "execution_count": 13,
     "metadata": {},
     "output_type": "execute_result"
    }
   ],
   "source": [
    "a"
   ]
  },
  {
   "cell_type": "code",
   "execution_count": 21,
   "id": "954dee45",
   "metadata": {
    "pycharm": {
     "name": "#%%\n"
    }
   },
   "outputs": [],
   "source": [
    "def check_winner_helper(x_count_list, o_count_list):\n",
    "    TOTAL_TO_WIN = 3\n",
    "    winner = None\n",
    "    if TOTAL_TO_WIN in x_count_list:\n",
    "        winner = X\n",
    "    elif TOTAL_TO_WIN in o_count_list:\n",
    "        winner = O\n",
    "    return winner\n",
    "    \n",
    "\n",
    "def check_row_winner(board):\n",
    "    TOTAL_TO_WIN = 3\n",
    "    winner = None\n",
    "    x_count_list = [a.count(X) for a in board]\n",
    "    o_count_list = [a.count(O) for a in board] \n",
    "    return check_winner_helper(x_count_list, o_count_list)\n",
    "    \n",
    "        \n",
    "def check_col_winner(board):\n",
    "    x_count_list =[]\n",
    "    o_count_list =[]\n",
    "    for i in range(3):\n",
    "        x_count =0\n",
    "        o_count =0\n",
    "        for k in range(3):\n",
    "            if board[k][i] ==X:\n",
    "                x_count +=1\n",
    "            \n",
    "            if board[k][i] ==O:\n",
    "                o_count +=1\n",
    "            \n",
    "            if k ==2:\n",
    "                x_count_list.append(x_count)\n",
    "                o_count_list.append(o_count)\n",
    "    return check_winner_helper(x_count_list,o_count_list)\n",
    "\n",
    "def check_diagonal_winner(board):\n",
    "    x_count = 0\n",
    "    o_count = 0\n",
    "    winner = None\n",
    "    \n",
    "    for i in range(3):\n",
    "        for k in range(3):\n",
    "            if i == k:\n",
    "                if board[i][k] ==X:\n",
    "                    x_count +=1\n",
    "            \n",
    "                elif board[i][k] ==O:\n",
    "                    o_count += 1\n",
    "    \n",
    "    print(x_count,o_count)\n",
    "    if (x_count ==3):\n",
    "        return X\n",
    "    \n",
    "    if (o_count ==3):\n",
    "        return O\n",
    "    \n",
    "        \n",
    "    \n",
    "    l = [(0,2),(1,1),(2,0)]\n",
    "    x_count = 0\n",
    "    o_count = 0\n",
    "    for i in range(3):\n",
    "        for k in range(3):\n",
    "            if (i,k) in l:\n",
    "                if board[i][k] ==X:\n",
    "                    x_count +=1\n",
    "            \n",
    "                elif board[i][k] ==O:\n",
    "                    o_count += 1\n",
    "    if (x_count ==3):\n",
    "        return X\n",
    "    \n",
    "    if (o_count ==3):\n",
    "        return O\n",
    "    \n",
    "    return winner\n",
    "        \n",
    "\n",
    "def winner(board):\n",
    "    \"\"\"\n",
    "    Returns the winner of the game, if there is one.\n",
    "    \"\"\"\n",
    "    winner = None\n",
    "    winner = check_row_winner(board)\n",
    "    if winner is not None:\n",
    "        return winner\n",
    "    \n",
    "    winner = check_col_winner(board)\n",
    "    if winner is not None:\n",
    "        return winner\n",
    "    \n",
    "    winner = check_diagonal_winner(board)\n",
    "    if winner is not None:\n",
    "        return winner\n",
    "    \n",
    "    return winner\n",
    "    \n",
    "    \n",
    "    \n",
    "    \n",
    "    \n",
    "    \n",
    "    \n",
    "        \n",
    "    "
   ]
  },
  {
   "cell_type": "code",
   "execution_count": 15,
   "id": "bd6aa76b",
   "metadata": {
    "pycharm": {
     "name": "#%%\n"
    }
   },
   "outputs": [
    {
     "name": "stdout",
     "output_type": "stream",
     "text": [
      "None\n",
      "done\n"
     ]
    }
   ],
   "source": [
    "b = [[O, O, X],[X,O,None] ,[None, None, X]]\n",
    "print(check_row_winner(b))\n",
    "print('done')"
   ]
  },
  {
   "cell_type": "code",
   "execution_count": 16,
   "id": "883ce4b4",
   "metadata": {
    "pycharm": {
     "name": "#%%\n"
    }
   },
   "outputs": [
    {
     "name": "stdout",
     "output_type": "stream",
     "text": [
      "None\n",
      "done\n"
     ]
    }
   ],
   "source": [
    "b = [[O, O, X],[X,O,None] ,[None, None, X]]\n",
    "print(check_col_winner(b))\n",
    "print('done')"
   ]
  },
  {
   "cell_type": "code",
   "execution_count": 22,
   "id": "85c59ad3",
   "metadata": {
    "pycharm": {
     "name": "#%%\n"
    }
   },
   "outputs": [
    {
     "name": "stdout",
     "output_type": "stream",
     "text": [
      "1 2\n",
      "None\n",
      "done\n"
     ]
    }
   ],
   "source": [
    "b = [[O, O, X],[X,O,None] ,[None, None, X]]\n",
    "print(check_diagonal_winner(b))\n",
    "print('done')"
   ]
  },
  {
   "cell_type": "code",
   "execution_count": 56,
   "id": "7ed3b872",
   "metadata": {
    "pycharm": {
     "name": "#%%\n"
    }
   },
   "outputs": [
    {
     "name": "stdout",
     "output_type": "stream",
     "text": [
      "[['X', None, None], [None, 'X', None], [None, None, 'X']]\n",
      "X\n"
     ]
    }
   ],
   "source": [
    "c = [b.copy() for b in a]\n",
    "c[0][0] = X\n",
    "c[1][1] = X\n",
    "c[2][2] = X\n",
    "print(c)\n",
    "temp = winner(c)\n",
    "print(temp)"
   ]
  },
  {
   "cell_type": "code",
   "execution_count": 57,
   "id": "d4796c3e",
   "metadata": {
    "pycharm": {
     "name": "#%%\n"
    }
   },
   "outputs": [],
   "source": [
    "def terminal(board):\n",
    "    \"\"\"\n",
    "    Returns True if game is over, False otherwise.\n",
    "    \"\"\"\n",
    "    if sum([a.count(None) for a in board]) ==0 or winner(board) is not None:\n",
    "        return True\n",
    "    \n",
    "    else:\n",
    "        return False\n",
    "    \n",
    "\n",
    "\n",
    "\n",
    "def utility(board):\n",
    "    \"\"\"\n",
    "    Returns 1 if X has won the game, -1 if O has won, 0 otherwise.\n",
    "    \"\"\"\n",
    "    the_winner = winner(board)\n",
    "    if the_winner == X:\n",
    "        return 1\n",
    "    elif the_winner ==O:\n",
    "        return -1\n",
    "    else:\n",
    "        return 0"
   ]
  },
  {
   "cell_type": "code",
   "execution_count": 112,
   "id": "f36408d5",
   "metadata": {
    "pycharm": {
     "name": "#%%\n"
    }
   },
   "outputs": [
    {
     "name": "stdout",
     "output_type": "stream",
     "text": [
      "[['X', None, None], [None, 'X', None], [None, None, 'X']]\n",
      "True\n"
     ]
    }
   ],
   "source": [
    "c = [b.copy() for b in a]\n",
    "c[0][0] = X\n",
    "c[1][1] = X\n",
    "c[2][2] = X\n",
    "print(c)\n",
    "temp = terminal(c)\n",
    "print(temp)"
   ]
  },
  {
   "cell_type": "code",
   "execution_count": null,
   "id": "8b0f94af",
   "metadata": {
    "pycharm": {
     "name": "#%%\n"
    }
   },
   "outputs": [],
   "source": [
    "def result(board, action):\n",
    "    \"\"\"\n",
    "    Returns the board that results from making move (i, j) on the board.\n",
    "    \"\"\"\n",
    "    new_board = copy.deepcopy(board)\n",
    "    next_player = player(board)\n",
    "    new_board[action[0]][action[1]] = next_player\n",
    "    return new_board"
   ]
  },
  {
   "cell_type": "code",
   "execution_count": 61,
   "id": "49048d54",
   "metadata": {
    "pycharm": {
     "name": "#%%\n"
    }
   },
   "outputs": [],
   "source": [
    "def minimax(board):\n",
    "    \"\"\"\n",
    "    Returns the optimal action for the current player on the board.\n",
    "    \"\"\"\n",
    "    if terminal(board):\n",
    "        return None\n",
    "\n",
    "    the_player = player(board)\n",
    "    my_list = []\n",
    "    if the_player == X:\n",
    "        for action in actions(board):\n",
    "            print(action)\n",
    "            v = max_value(board)\n",
    "            my_list.append((v, action))\n",
    "        print(\"--------------------------------\\n\\n\")\n",
    "\n",
    "        index = 0\n",
    "        max_val = my_list[0][0]\n",
    "        for i in range(len(my_list)):\n",
    "            if my_list[i][0] >= max_val:\n",
    "                max_val = my_list[i][0]\n",
    "                index = i\n",
    "        return my_list[index][1]\n",
    "\n",
    "    else:\n",
    "        for action in actions(board):\n",
    "            v = min_value(board)\n",
    "            my_list.append((v, action))\n",
    "\n",
    "        index = 0\n",
    "        min_val = my_list[0][0]\n",
    "        for i in range(len(my_list)):\n",
    "            if my_list[i][0] <= min_val:\n",
    "                min_val = my_list[i][0]\n",
    "                index = i\n",
    "        return my_list[index][1]\n",
    "      \n",
    "    \n",
    "    \n",
    "    \n",
    "\n",
    "def max_value(board):\n",
    "    if terminal(board):\n",
    "        return utility(board)\n",
    "    \n",
    "    v = (-1)*math.inf\n",
    "    \n",
    "    for action in actions(board):\n",
    "        v = max(v,min_value(result(board, action)))\n",
    "    return v\n",
    "        \n",
    "def min_value(board):\n",
    "    if terminal(board):\n",
    "        return utility(board)\n",
    "    \n",
    "    v = math.inf\n",
    "    \n",
    "    for action in actions(board):\n",
    "        v = min(v, max_value(result(board,action)))\n",
    "    return v\n",
    "    \n",
    "    \n",
    "    "
   ]
  },
  {
   "cell_type": "code",
   "execution_count": 62,
   "id": "a7576d58",
   "metadata": {
    "pycharm": {
     "name": "#%%\n"
    }
   },
   "outputs": [
    {
     "name": "stdout",
     "output_type": "stream",
     "text": [
      "None\n"
     ]
    }
   ],
   "source": [
    "b = [[O, X, O],[X,X,X] ,[O, O, None]]\n",
    "\n",
    "print(minimax(b))"
   ]
  },
  {
   "cell_type": "code",
   "execution_count": 120,
   "id": "bab2c467",
   "metadata": {
    "pycharm": {
     "name": "#%%\n"
    }
   },
   "outputs": [
    {
     "data": {
      "text/plain": [
       "2"
      ]
     },
     "execution_count": 120,
     "metadata": {},
     "output_type": "execute_result"
    }
   ],
   "source": [
    "l = [(1,2),(3,4)]\n",
    "l[0][1]"
   ]
  },
  {
   "cell_type": "code",
   "execution_count": 65,
   "id": "ae3afa93",
   "metadata": {
    "pycharm": {
     "name": "#%%\n"
    }
   },
   "outputs": [],
   "source": [
    "# helper functions\n",
    "def check_winner_helper(x_count_list, o_count_list):\n",
    "    TOTAL_TO_WIN = 3\n",
    "    winner = None\n",
    "    if TOTAL_TO_WIN in x_count_list:\n",
    "        winner = X\n",
    "    elif TOTAL_TO_WIN in o_count_list:\n",
    "        winner = O\n",
    "    return winner\n",
    "\n",
    "\n",
    "def check_row_winner(board):\n",
    "    TOTAL_TO_WIN = 3\n",
    "    winner = None\n",
    "    x_count_list = [a.count(X) for a in board]\n",
    "    o_count_list = [a.count(O) for a in board]\n",
    "    return check_winner_helper(x_count_list, o_count_list)\n",
    "\n",
    "\n",
    "def check_col_winner(board):\n",
    "    x_count_list = []\n",
    "    o_count_list = []\n",
    "    for i in range(3):\n",
    "        x_count = 0\n",
    "        o_count = 0\n",
    "        for k in range(3):\n",
    "            if board[k][i] == X:\n",
    "                x_count += 1\n",
    "\n",
    "            if board[k][i] == O:\n",
    "                o_count += 1\n",
    "\n",
    "            if k == 2:\n",
    "                x_count_list.append(x_count)\n",
    "                o_count_list.append(o_count)\n",
    "    return check_winner_helper(x_count_list, o_count_list)\n",
    "\n",
    "\n",
    "def check_diagonal_winner(board):\n",
    "    x_count = 0\n",
    "    o_count = 0\n",
    "    winner = None\n",
    "\n",
    "    for i in range(3):\n",
    "        for k in range(3):\n",
    "            if i == k:\n",
    "                if board[i][k] == X:\n",
    "                    x_count += 1\n",
    "\n",
    "            if board[i][k] == O:\n",
    "                o_count += 1\n",
    "\n",
    "    if x_count == 3:\n",
    "        return X\n",
    "\n",
    "    elif o_count == 3:\n",
    "        return O\n",
    "\n",
    "    l = [(0, 2), (1, 1), (2, 0)]\n",
    "    x_count = 0\n",
    "    o_count = 0\n",
    "    for i in range(3):\n",
    "        for k in range(3):\n",
    "            if (i, k) in l:\n",
    "                if board[i][k] == X:\n",
    "                    x_count += 1\n",
    "\n",
    "            if board[i][k] == O:\n",
    "                o_count += 1\n",
    "    if x_count == 3:\n",
    "        return X\n",
    "\n",
    "    elif o_count == 3:\n",
    "        return O\n",
    "\n",
    "    return winner\n"
   ]
  },
  {
   "cell_type": "code",
   "execution_count": 67,
   "id": "b4fd5570",
   "metadata": {
    "pycharm": {
     "name": "#%%\n"
    }
   },
   "outputs": [],
   "source": [
    "import math\n",
    "import copy\n",
    "\n",
    "X = \"X\"\n",
    "O = \"O\"\n",
    "EMPTY = None\n",
    "\n",
    "\n",
    "def initial_state():\n",
    "    \"\"\"\n",
    "    Returns starting state of the board.\n",
    "    \"\"\"\n",
    "    return [[EMPTY, EMPTY, EMPTY],\n",
    "            [EMPTY, EMPTY, EMPTY],\n",
    "            [EMPTY, EMPTY, EMPTY]]\n",
    "\n",
    "\n",
    "def player(board):\n",
    "    \"\"\"\n",
    "    Returns player who has the next turn on a board.\n",
    "    \"\"\"\n",
    "    x_count = sum([a.count(X) for a in board])\n",
    "    o_count = sum([a.count(O) for a in board])\n",
    "    if o_count < x_count:\n",
    "        return O\n",
    "    return X\n",
    "\n",
    "\n",
    "def actions(board):\n",
    "    \"\"\"\n",
    "    Returns set of all possible actions (i, j) available on the board.\n",
    "    \"\"\"\n",
    "    actions = set()\n",
    "    for row in range(len(board)):\n",
    "        for col in range(len(board[0])):\n",
    "            if board[row][col] == None:\n",
    "                actions.add((row, col))\n",
    "    return actions\n",
    "\n",
    "\n",
    "def result(board, action):\n",
    "    \"\"\"\n",
    "    Returns the board that results from making move (i, j) on the board.\n",
    "    \"\"\"\n",
    "    new_board = copy.deepcopy(board)\n",
    "    next_player = player(board)\n",
    "    new_board[action[0]][action[1]] = next_player\n",
    "    return new_board\n",
    "\n",
    "\n",
    "def winner(board):\n",
    "    \"\"\"\n",
    "    Returns the winner of the game, if there is one.\n",
    "    \"\"\"\n",
    "    winner = None\n",
    "    winner = check_row_winner(board)\n",
    "    if winner is not None:\n",
    "        print(\"returning from check_row\")\n",
    "        return winner\n",
    "\n",
    "    winner = check_col_winner(board)\n",
    "    if winner is not None:\n",
    "        print(\"returning from check_col\")\n",
    "        return winner\n",
    "\n",
    "    winner = check_diagonal_winner(board)\n",
    "    if winner is not None:\n",
    "        #print(\"returning from check_diag\")\n",
    "        return winner\n",
    "\n",
    "    return winner\n",
    "\n",
    "\n",
    "def terminal(board):\n",
    "    \"\"\"\n",
    "    Returns True if game is over, False otherwise.\n",
    "    \"\"\"\n",
    "    if sum([a.count(None) for a in board]) == 0 or winner(board) is not None:\n",
    "        return True\n",
    "    else:\n",
    "        return False\n",
    "\n",
    "\n",
    "def utility(board):\n",
    "    \"\"\"\n",
    "    Returns 1 if X has won the game, -1 if O has won, 0 otherwise.\n",
    "    \"\"\"\n",
    "    the_winner = winner(board)\n",
    "    if the_winner == X:\n",
    "        return 1\n",
    "    elif the_winner == O:\n",
    "        return -1\n",
    "    else:\n",
    "        return 0\n",
    "\n",
    "\n",
    "def minimax(board):\n",
    "    \"\"\"\n",
    "    Returns the optimal action for the current player on the board.\n",
    "    \"\"\"\n",
    "    if terminal(board):\n",
    "        return None\n",
    "\n",
    "    the_player = player(board)\n",
    "    my_list = []\n",
    "    if the_player == X:\n",
    "        for action in actions(board):\n",
    "            print(action)\n",
    "            v = max_value(board)\n",
    "            my_list.append((v, action))\n",
    "            print(\"max-value =\",v)\n",
    "        print(\"--------------------------------\\n\\n\")\n",
    "\n",
    "        index = 0\n",
    "        max_val = my_list[0][0]\n",
    "        for i in range(len(my_list)):\n",
    "            if my_list[i][0] >= max_val:\n",
    "                max_val = my_list[i][0]\n",
    "                index = i\n",
    "        return my_list[index][1]\n",
    "\n",
    "    else:\n",
    "        for action in actions(board):\n",
    "            v = min_value(board)\n",
    "            my_list.append((v, action))\n",
    "\n",
    "        index = 0\n",
    "        min_val = my_list[0][0]\n",
    "        for i in range(len(my_list)):\n",
    "            if my_list[i][0] <= min_val:\n",
    "                min_val = my_list[i][0]\n",
    "                index = i\n",
    "        return my_list[index][1]\n",
    "\n",
    "\n",
    "def max_value(board):\n",
    "    if terminal(board):\n",
    "        #print(\"In max_value :\")\n",
    "        #print(board)\n",
    "        return utility(board)\n",
    "\n",
    "    v = (-1) * math.inf\n",
    "\n",
    "    for action in actions(board):\n",
    "        v = max(v, min_value(result(board, action)))\n",
    "    return v\n",
    "\n",
    "\n",
    "def min_value(board):\n",
    "    if terminal(board):\n",
    "        #print(\"In min_value :\")\n",
    "        #print(board)\n",
    "        return utility(board)\n",
    "\n",
    "    v = math.inf\n",
    "\n",
    "    for action in actions(board):\n",
    "        v = min(v, max_value(result(board, action)))\n",
    "    return v\n",
    "\n",
    "\n"
   ]
  },
  {
   "cell_type": "code",
   "execution_count": 70,
   "id": "d93e1cee",
   "metadata": {
    "pycharm": {
     "name": "#%%\n"
    }
   },
   "outputs": [
    {
     "name": "stdout",
     "output_type": "stream",
     "text": [
      "(0, 1)\n",
      "returning from check_col\n",
      "returning from check_col\n",
      "returning from check_col\n",
      "returning from check_col\n",
      "returning from check_col\n",
      "returning from check_col\n",
      "returning from check_col\n",
      "returning from check_col\n",
      "max-value = -1\n",
      "(1, 2)\n",
      "returning from check_col\n",
      "returning from check_col\n",
      "returning from check_col\n",
      "returning from check_col\n",
      "returning from check_col\n",
      "returning from check_col\n",
      "returning from check_col\n",
      "returning from check_col\n",
      "max-value = -1\n",
      "(2, 1)\n",
      "returning from check_col\n",
      "returning from check_col\n",
      "returning from check_col\n",
      "returning from check_col\n",
      "returning from check_col\n",
      "returning from check_col\n",
      "returning from check_col\n",
      "returning from check_col\n",
      "max-value = -1\n",
      "(2, 2)\n",
      "returning from check_col\n",
      "returning from check_col\n",
      "returning from check_col\n",
      "returning from check_col\n",
      "returning from check_col\n",
      "returning from check_col\n",
      "returning from check_col\n",
      "returning from check_col\n",
      "max-value = -1\n",
      "(1, 0)\n",
      "returning from check_col\n",
      "returning from check_col\n",
      "returning from check_col\n",
      "returning from check_col\n",
      "returning from check_col\n",
      "returning from check_col\n",
      "returning from check_col\n",
      "returning from check_col\n",
      "max-value = -1\n",
      "--------------------------------\n",
      "\n",
      "\n",
      "(1, 0)\n"
     ]
    }
   ],
   "source": [
    "b = [[O, None, X],[None,X,None] ,[O,None,None]]\n",
    "\n",
    "print(minimax(b))"
   ]
  },
  {
   "cell_type": "code",
   "execution_count": null,
   "id": "e2c780b4",
   "metadata": {
    "pycharm": {
     "name": "#%%\n"
    }
   },
   "outputs": [],
   "source": []
  }
 ],
 "metadata": {
  "kernelspec": {
   "display_name": "Python 3 (ipykernel)",
   "language": "python",
   "name": "python3"
  },
  "language_info": {
   "codemirror_mode": {
    "name": "ipython",
    "version": 3
   },
   "file_extension": ".py",
   "mimetype": "text/x-python",
   "name": "python",
   "nbconvert_exporter": "python",
   "pygments_lexer": "ipython3",
   "version": "3.11.4"
  }
 },
 "nbformat": 4,
 "nbformat_minor": 5
}